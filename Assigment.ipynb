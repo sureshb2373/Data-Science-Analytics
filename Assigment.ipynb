{
 "cells": [
  {
   "cell_type": "markdown",
   "id": "6768e1e6-0509-4cb4-b4cb-3c3b52f7610a",
   "metadata": {},
   "source": [
    "## 1. Bank Account Manager"
   ]
  },
  {
   "cell_type": "code",
   "execution_count": 1,
   "id": "3fcffb28-0ad1-42c8-9e41-e09d9cfdfdb1",
   "metadata": {},
   "outputs": [
    {
     "name": "stdout",
     "output_type": "stream",
     "text": [
      "\n",
      "*** Bank Account Menu ***\n",
      "1. Deposit\n",
      "2. Withdraw\n",
      "3. Balance Inquiry\n",
      "4. Exit\n"
     ]
    },
    {
     "name": "stdin",
     "output_type": "stream",
     "text": [
      "Enter your choice:  1\n",
      "Enter the amount to deposit:  500\n"
     ]
    },
    {
     "name": "stdout",
     "output_type": "stream",
     "text": [
      "Successfully deposited 500.0. New balance: 500.0\n",
      "\n",
      "*** Bank Account Menu ***\n",
      "1. Deposit\n",
      "2. Withdraw\n",
      "3. Balance Inquiry\n",
      "4. Exit\n"
     ]
    },
    {
     "name": "stdin",
     "output_type": "stream",
     "text": [
      "Enter your choice:  2\n",
      "Enter the amount to withdraw:  1000\n"
     ]
    },
    {
     "name": "stdout",
     "output_type": "stream",
     "text": [
      "Insufficient funds! Your balance is 500.0.\n",
      "\n",
      "*** Bank Account Menu ***\n",
      "1. Deposit\n",
      "2. Withdraw\n",
      "3. Balance Inquiry\n",
      "4. Exit\n"
     ]
    },
    {
     "name": "stdin",
     "output_type": "stream",
     "text": [
      "Enter your choice:  2\n",
      "Enter the amount to withdraw:  300\n"
     ]
    },
    {
     "name": "stdout",
     "output_type": "stream",
     "text": [
      "Successfully withdrew 300.0. New balance: 200.0\n",
      "\n",
      "*** Bank Account Menu ***\n",
      "1. Deposit\n",
      "2. Withdraw\n",
      "3. Balance Inquiry\n",
      "4. Exit\n"
     ]
    },
    {
     "name": "stdin",
     "output_type": "stream",
     "text": [
      "Enter your choice:  3\n"
     ]
    },
    {
     "name": "stdout",
     "output_type": "stream",
     "text": [
      "Your current balance is 200.00\n",
      "\n",
      "*** Bank Account Menu ***\n",
      "1. Deposit\n",
      "2. Withdraw\n",
      "3. Balance Inquiry\n",
      "4. Exit\n"
     ]
    },
    {
     "name": "stdin",
     "output_type": "stream",
     "text": [
      "Enter your choice:  4\n"
     ]
    },
    {
     "name": "stdout",
     "output_type": "stream",
     "text": [
      "Thank you for banking with us!\n"
     ]
    }
   ],
   "source": [
    " balance = 0.0\n",
    "\n",
    "def deposit(amount):\n",
    "    global balance\n",
    "    balance += amount\n",
    "    print(f\"Successfully deposited {amount:}. New balance: {balance:}\")\n",
    "\n",
    "def withdraw(amount):\n",
    "    global balance\n",
    "    if amount > balance:\n",
    "        print(f\"Insufficient funds! Your balance is {balance:}.\")\n",
    "    else:\n",
    "        balance -= amount\n",
    "        print(f\"Successfully withdrew {amount:}. New balance: {balance:}\")\n",
    "\n",
    "def balance_inquiry():\n",
    "    global balance\n",
    "    print(f\"Your current balance is {balance:.2f}\")\n",
    "\n",
    "def main():\n",
    "    while True:\n",
    "        print(\"\\n*** Bank Account Menu ***\")\n",
    "        print(\"1. Deposit\")\n",
    "        print(\"2. Withdraw\")\n",
    "        print(\"3. Balance Inquiry\")\n",
    "        print(\"4. Exit\")\n",
    "        \n",
    "        choice = input(\"Enter your choice: \")\n",
    "\n",
    "        if choice == '1':\n",
    "            amount = float(input(\"Enter the amount to deposit: \"))\n",
    "            deposit(amount)\n",
    "\n",
    "        elif choice == '2':\n",
    "            amount = float(input(\"Enter the amount to withdraw: \"))\n",
    "            withdraw(amount)\n",
    "\n",
    "        elif choice == '3':\n",
    "            balance_inquiry()\n",
    "\n",
    "        elif choice == '4':\n",
    "            print(\"Thank you for banking with us!\")\n",
    "            break\n",
    "\n",
    "        else:\n",
    "            print(\"Invalid choice! Please enter a number between 1 and 4.\")\n",
    "\n",
    "if __name__ == \"__main__\":\n",
    "    main()\n"
   ]
  },
  {
   "cell_type": "markdown",
   "id": "a5623256-5634-4d4c-8678-ad5060760eb5",
   "metadata": {},
   "source": [
    "## 2. Weather Data Analyzer"
   ]
  },
  {
   "cell_type": "code",
   "execution_count": 7,
   "id": "da8e80ba-4e76-4c04-b8da-84ae9cdd4356",
   "metadata": {},
   "outputs": [
    {
     "name": "stdout",
     "output_type": "stream",
     "text": [
      "Weather Data Analysis for the Week:\n",
      "\n",
      "Monday: Temperature = 25°C, Humidity = 60%, Condition = Moderate\n",
      "Tuesday: Temperature = 22°C, Humidity = 65%, Condition = Moderate\n",
      "Wednesday: Temperature = 30°C, Humidity = 50%, Condition = Moderate\n",
      "Thursday: Temperature = 35°C, Humidity = 40%, Condition = Sunny\n",
      "Friday: Temperature = 28°C, Humidity = 55%, Condition = Moderate\n",
      "Saturday: Temperature = 20°C, Humidity = 70%, Condition = Moderate\n",
      "Sunday: Temperature = 18°C, Humidity = 80%, Condition = Rainy\n",
      "\n",
      "Average Temperature for the week: 25.428571428571427°C\n",
      "Average Humidity for the week: 60.0%\n"
     ]
    }
   ],
   "source": [
    "\n",
    "weather_data = [\n",
    "    {\"day\": \"Monday\", \"temperature\": 25, \"humidity\": 60},\n",
    "    {\"day\": \"Tuesday\", \"temperature\": 22, \"humidity\": 65},\n",
    "    {\"day\": \"Wednesday\", \"temperature\": 30, \"humidity\": 50},\n",
    "    {\"day\": \"Thursday\", \"temperature\": 35, \"humidity\": 40},\n",
    "    {\"day\": \"Friday\", \"temperature\": 28, \"humidity\": 55},\n",
    "    {\"day\": \"Saturday\", \"temperature\": 20, \"humidity\": 70},\n",
    "    {\"day\": \"Sunday\", \"temperature\": 18, \"humidity\": 80},\n",
    "]\n",
    "\n",
    "def calculate_average_temperature(data):\n",
    "    total_temperature = sum(day[\"temperature\"] for day in data)\n",
    "    return total_temperature / len(data)\n",
    "\n",
    "def calculate_average_humidity(data):\n",
    "    total_humidity = sum(day[\"humidity\"] for day in data)\n",
    "    return total_humidity / len(data)\n",
    "\n",
    "def determine_weather_condition(temperature, humidity):\n",
    "    if temperature > 30 and humidity < 50:\n",
    "        return \"Sunny\"\n",
    "    elif humidity > 70:\n",
    "        return \"Rainy\"\n",
    "    elif temperature < 20:\n",
    "        return \"Cold\"\n",
    "    else:\n",
    "        return \"Moderate\"\n",
    "\n",
    "def analyze_weather_data(data):\n",
    "    for day_data in data:\n",
    "        day = day_data[\"day\"]\n",
    "        temperature = day_data[\"temperature\"]\n",
    "        humidity = day_data[\"humidity\"]\n",
    "        condition = determine_weather_condition(temperature, humidity)\n",
    "        print(f\"{day}: Temperature = {temperature}°C, Humidity = {humidity}%, Condition = {condition}\")\n",
    "\n",
    "def print_average_weather(data):\n",
    "    avg_temp = calculate_average_temperature(data)\n",
    "    avg_humidity = calculate_average_humidity(data)\n",
    "    print(f\"\\nAverage Temperature for the week: {avg_temp:}°C\")\n",
    "    print(f\"Average Humidity for the week: {avg_humidity:}%\")\n",
    "\n",
    "def main():\n",
    "    print(\"Weather Data Analysis for the Week:\\n\")\n",
    "    analyze_weather_data(weather_data)\n",
    "    print_average_weather(weather_data)\n",
    "\n",
    "if __name__ == \"__main__\":\n",
    "    main()\n"
   ]
  },
  {
   "cell_type": "code",
   "execution_count": null,
   "id": "84876b0e-914e-44b5-b3a5-68195366db8f",
   "metadata": {},
   "outputs": [],
   "source": []
  }
 ],
 "metadata": {
  "kernelspec": {
   "display_name": "Python 3 (ipykernel)",
   "language": "python",
   "name": "python3"
  },
  "language_info": {
   "codemirror_mode": {
    "name": "ipython",
    "version": 3
   },
   "file_extension": ".py",
   "mimetype": "text/x-python",
   "name": "python",
   "nbconvert_exporter": "python",
   "pygments_lexer": "ipython3",
   "version": "3.12.4"
  }
 },
 "nbformat": 4,
 "nbformat_minor": 5
}
