{
 "cells": [
  {
   "cell_type": "code",
   "execution_count": 3,
   "id": "aa905a66-abf3-4e06-b4fd-ac4335287e91",
   "metadata": {},
   "outputs": [],
   "source": [
    "import pandas as pd\n",
    "import numpy as np\n",
    "import matplotlib.pyplot as plt\n",
    "import seaborn as sns"
   ]
  },
  {
   "cell_type": "code",
   "execution_count": 9,
   "id": "327e2edc-97b0-44ae-8551-6f2334b1467e",
   "metadata": {},
   "outputs": [],
   "source": [
    "data = pd.read_csv(r'C:\\Users\\HP\\Downloads\\Data Sceince_tutorial\\Working file\\car_age_price.csv')"
   ]
  },
  {
   "cell_type": "code",
   "execution_count": 11,
   "id": "79ab626d-e1ba-4397-a390-1b14582c4bb1",
   "metadata": {},
   "outputs": [
    {
     "data": {
      "text/html": [
       "<div>\n",
       "<style scoped>\n",
       "    .dataframe tbody tr th:only-of-type {\n",
       "        vertical-align: middle;\n",
       "    }\n",
       "\n",
       "    .dataframe tbody tr th {\n",
       "        vertical-align: top;\n",
       "    }\n",
       "\n",
       "    .dataframe thead th {\n",
       "        text-align: right;\n",
       "    }\n",
       "</style>\n",
       "<table border=\"1\" class=\"dataframe\">\n",
       "  <thead>\n",
       "    <tr style=\"text-align: right;\">\n",
       "      <th></th>\n",
       "      <th>Year</th>\n",
       "      <th>Price</th>\n",
       "    </tr>\n",
       "  </thead>\n",
       "  <tbody>\n",
       "    <tr>\n",
       "      <th>0</th>\n",
       "      <td>2018</td>\n",
       "      <td>465000</td>\n",
       "    </tr>\n",
       "    <tr>\n",
       "      <th>1</th>\n",
       "      <td>2019</td>\n",
       "      <td>755000</td>\n",
       "    </tr>\n",
       "    <tr>\n",
       "      <th>2</th>\n",
       "      <td>2019</td>\n",
       "      <td>700000</td>\n",
       "    </tr>\n",
       "    <tr>\n",
       "      <th>3</th>\n",
       "      <td>2018</td>\n",
       "      <td>465000</td>\n",
       "    </tr>\n",
       "    <tr>\n",
       "      <th>4</th>\n",
       "      <td>2018</td>\n",
       "      <td>465000</td>\n",
       "    </tr>\n",
       "  </tbody>\n",
       "</table>\n",
       "</div>"
      ],
      "text/plain": [
       "   Year   Price\n",
       "0  2018  465000\n",
       "1  2019  755000\n",
       "2  2019  700000\n",
       "3  2018  465000\n",
       "4  2018  465000"
      ]
     },
     "execution_count": 11,
     "metadata": {},
     "output_type": "execute_result"
    }
   ],
   "source": [
    "data.head()"
   ]
  },
  {
   "cell_type": "code",
   "execution_count": 13,
   "id": "21970cd2-e046-4990-b335-a0acf6f01bc7",
   "metadata": {},
   "outputs": [
    {
     "data": {
      "text/plain": [
       "Year     0\n",
       "Price    0\n",
       "dtype: int64"
      ]
     },
     "execution_count": 13,
     "metadata": {},
     "output_type": "execute_result"
    }
   ],
   "source": [
    "data.isna().sum()"
   ]
  },
  {
   "cell_type": "code",
   "execution_count": 15,
   "id": "5b60aab5-0b0b-4608-a40a-d506d6026954",
   "metadata": {},
   "outputs": [
    {
     "data": {
      "text/plain": [
       "Index(['Year', 'Price'], dtype='object')"
      ]
     },
     "execution_count": 15,
     "metadata": {},
     "output_type": "execute_result"
    }
   ],
   "source": [
    "data.columns"
   ]
  },
  {
   "cell_type": "code",
   "execution_count": 19,
   "id": "66753f8a-dcd3-416a-8fad-1d6f0c2d2186",
   "metadata": {},
   "outputs": [
    {
     "data": {
      "text/plain": [
       "(112, 2)"
      ]
     },
     "execution_count": 19,
     "metadata": {},
     "output_type": "execute_result"
    }
   ],
   "source": [
    "data.shape"
   ]
  },
  {
   "cell_type": "markdown",
   "id": "729aec60-dfa2-44cb-9b3a-2e0f41afef58",
   "metadata": {},
   "source": [
    "## 1.Find the best linear relationship between year and price"
   ]
  },
  {
   "cell_type": "code",
   "execution_count": 25,
   "id": "c12eb5e6-13d4-4bd6-b604-f87872e51978",
   "metadata": {},
   "outputs": [],
   "source": [
    "x = data.drop('Price', axis = 1)\n",
    "y = data['Price']"
   ]
  },
  {
   "cell_type": "code",
   "execution_count": 27,
   "id": "7e8e2c42-5279-408d-8c90-3a0230ed2e09",
   "metadata": {},
   "outputs": [],
   "source": [
    "from sklearn.model_selection import train_test_split\n",
    "x_train,x_test,y_train,y_test = train_test_split(x,y,test_size = 0.2, random_state =42)\n"
   ]
  },
  {
   "cell_type": "code",
   "execution_count": 29,
   "id": "3e32589d-afa6-4b84-bd01-9a6c421c296d",
   "metadata": {},
   "outputs": [],
   "source": [
    "from sklearn.linear_model import LinearRegression\n",
    "Ir = LinearRegression()\n",
    "model = Ir.fit(x_train,y_train)"
   ]
  },
  {
   "cell_type": "code",
   "execution_count": 31,
   "id": "27e5c1e9-e926-4ca8-89b8-a72e68fa8aec",
   "metadata": {},
   "outputs": [
    {
     "data": {
      "image/png": "[encoded data removed]",
      "text/plain": [
       "<Figure size 640x480 with 1 Axes>"
      ]
     },
     "metadata": {},
     "output_type": "display_data"
    }
   ],
   "source": [
    "plt.scatter(x_train,y_train, color = 'blue')\n",
    "plt.plot(x_train,model.predict(x_train), color = 'red')\n",
    "plt.title('price Prediction')\n",
    "plt.xlabel = ('Year')\n",
    "plt.ylabel = ('Price')\n",
    "plt.show()"
   ]
  },
  {
   "cell_type": "code",
   "execution_count": 33,
   "id": "2ae82c42-31a6-4a92-bb1b-25ce42228445",
   "metadata": {},
   "outputs": [],
   "source": [
    "predictions= model.predict(x_test)"
   ]
  },
  {
   "cell_type": "code",
   "execution_count": 35,
   "id": "14028061-74a3-48ac-ad95-d05c5a106ac0",
   "metadata": {},
   "outputs": [
    {
     "name": "stdout",
     "output_type": "stream",
     "text": [
      "Mean Squared Error =  4326906256.829671\n",
      "R Squared Value =  0.36759313425902185\n"
     ]
    }
   ],
   "source": [
    "from sklearn.metrics import mean_squared_error,r2_score\n",
    "print('Mean Squared Error = ', mean_squared_error(y_test,predictions))\n",
    "print('R Squared Value = ', r2_score(y_test,predictions))"
   ]
  },
  {
   "cell_type": "markdown",
   "id": "2d33560e-883a-404f-8ba9-9ec6ff4ea32e",
   "metadata": {},
   "source": [
    "## 2.Can you predict the possible price of a 2022 model second-hand grand i10?"
   ]
  },
  {
   "cell_type": "code",
   "execution_count": 37,
   "id": "e827d846-0363-4a1b-ab60-4ea53f5ecdbe",
   "metadata": {},
   "outputs": [
    {
     "name": "stderr",
     "output_type": "stream",
     "text": [
      "C:\\Users\\HP\\anaconda3\\Lib\\site-packages\\sklearn\\base.py:493: UserWarning: X does not have valid feature names, but LinearRegression was fitted with feature names\n",
      "  warnings.warn(\n"
     ]
    }
   ],
   "source": [
    "value = model.predict([[2022]])"
   ]
  },
  {
   "cell_type": "code",
   "execution_count": 39,
   "id": "ab5745a1-cbaf-46ec-867e-1f8907b13e34",
   "metadata": {},
   "outputs": [
    {
     "data": {
      "text/plain": [
       "array([743601.61594504])"
      ]
     },
     "execution_count": 39,
     "metadata": {},
     "output_type": "execute_result"
    }
   ],
   "source": [
    "value"
   ]
  },
  {
   "cell_type": "markdown",
   "id": "ea1cb734-662b-4fbf-9d41-3eebcfd065f4",
   "metadata": {},
   "source": [
    "## 3.learn about lasso regression and create a model"
   ]
  },
  {
   "cell_type": "code",
   "execution_count": 60,
   "id": "0d11c207-bb6a-43a9-b510-8d642bf58963",
   "metadata": {},
   "outputs": [],
   "source": [
    "x = data.drop('Price', axis = 1)\n",
    "y = data['Price']"
   ]
  },
  {
   "cell_type": "code",
   "execution_count": 62,
   "id": "9d8d6859-8dfd-43bc-9fbf-cd4039e9a50e",
   "metadata": {},
   "outputs": [],
   "source": [
    "from sklearn.model_selection import train_test_split\n",
    "x_train,x_test,y_train,y_test = train_test_split(x,y,test_size = 0.2, random_state =42)"
   ]
  },
  {
   "cell_type": "code",
   "execution_count": 72,
   "id": "ecf7a664-c0eb-44d3-a60c-1b580a22cc3a",
   "metadata": {},
   "outputs": [],
   "source": [
    "from sklearn.linear_model import Lasso\n",
    "Ls = Lasso()\n",
    "model = lasso_model.fit(x_train, y_train)"
   ]
  },
  {
   "cell_type": "code",
   "execution_count": 76,
   "id": "0908013c-65ad-4509-afe8-6f14f463b916",
   "metadata": {},
   "outputs": [],
   "source": [
    "lasso_model = Lasso(alpha=0.1)"
   ]
  },
  {
   "cell_type": "code",
   "execution_count": 78,
   "id": "76879c98-ef1e-468d-b8c8-0cf32bcb69f4",
   "metadata": {},
   "outputs": [
    {
     "data": {
      "image/png": "[encoded data removed]",
      "text/plain": [
       "<Figure size 640x480 with 1 Axes>"
      ]
     },
     "metadata": {},
     "output_type": "display_data"
    }
   ],
   "source": [
    "plt.scatter(x_train,y_train, color = 'blue')\n",
    "plt.plot(x_train,model.predict(x_train), color = 'red')\n",
    "plt.title('price Prediction')\n",
    "plt.xlabel = ('Year')\n",
    "plt.ylabel = ('Price')\n",
    "plt.show()"
   ]
  },
  {
   "cell_type": "code",
   "execution_count": 80,
   "id": "39c5f88c-b80c-4ef7-aa45-54ab63552620",
   "metadata": {},
   "outputs": [],
   "source": [
    "predictions= model.predict(x_test)"
   ]
  },
  {
   "cell_type": "code",
   "execution_count": 82,
   "id": "5c81dfe9-920b-4fa9-b46f-bda0a790e688",
   "metadata": {},
   "outputs": [
    {
     "name": "stdout",
     "output_type": "stream",
     "text": [
      "Mean Squared Error =  4326901608.19506\n",
      "R Squared Value =  0.36759381368868127\n"
     ]
    }
   ],
   "source": [
    "from sklearn.metrics import mean_squared_error,r2_score\n",
    "print('Mean Squared Error = ', mean_squared_error(y_test,predictions))\n",
    "print('R Squared Value = ', r2_score(y_test,predictions))"
   ]
  },
  {
   "cell_type": "code",
   "execution_count": 84,
   "id": "f8c47852-f0f4-42ba-a36d-8f2048f8555b",
   "metadata": {},
   "outputs": [
    {
     "name": "stderr",
     "output_type": "stream",
     "text": [
      "C:\\Users\\HP\\anaconda3\\Lib\\site-packages\\sklearn\\base.py:493: UserWarning: X does not have valid feature names, but Lasso was fitted with feature names\n",
      "  warnings.warn(\n"
     ]
    }
   ],
   "source": [
    "value = model.predict([[2022]])"
   ]
  },
  {
   "cell_type": "code",
   "execution_count": 86,
   "id": "7e66c353-e455-4f82-86ab-628b03e0f9e3",
   "metadata": {},
   "outputs": [
    {
     "data": {
      "text/plain": [
       "array([743601.39177768])"
      ]
     },
     "execution_count": 86,
     "metadata": {},
     "output_type": "execute_result"
    }
   ],
   "source": [
    "value"
   ]
  },
  {
   "cell_type": "markdown",
   "id": "0438653d-88d2-44e3-a589-b4296df56d06",
   "metadata": {},
   "source": [
    "## 4,Find out which one is performing better."
   ]
  },
  {
   "cell_type": "code",
   "execution_count": null,
   "id": "3d49ce07-43e7-4a45-8ae8-df0106b87597",
   "metadata": {},
   "outputs": [],
   "source": [
    "There is only sight variation between Linear and Lasso regresion."
   ]
  }
 ],
 "metadata": {
  "kernelspec": {
   "display_name": "Python 3 (ipykernel)",
   "language": "python",
   "name": "python3"
  },
  "language_info": {
   "codemirror_mode": {
    "name": "ipython",
    "version": 3
   },
   "file_extension": ".py",
   "mimetype": "text/x-python",
   "name": "python",
   "nbconvert_exporter": "python",
   "pygments_lexer": "ipython3",
   "version": "3.12.4"
  }
 },
 "nbformat": 4,
 "nbformat_minor": 5
}
